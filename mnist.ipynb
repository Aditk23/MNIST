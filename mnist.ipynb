{
  "nbformat": 4,
  "nbformat_minor": 0,
  "metadata": {
    "colab": {
      "name": "mnist.ipynb",
      "provenance": [],
      "collapsed_sections": []
    },
    "kernelspec": {
      "name": "python3",
      "display_name": "Python 3"
    },
    "language_info": {
      "name": "python"
    },
    "accelerator": "GPU"
  },
  "cells": [
    {
      "cell_type": "code",
      "metadata": {
        "id": "-xSY_ln2Vwfv"
      },
      "source": [
        "import tensorflow as tf\n",
        "import numpy as np\n",
        "import pandas as pd\n",
        "from tensorflow.keras.datasets import mnist\n",
        "from tensorflow.keras.layers import Conv2D, MaxPool2D, Flatten, Dense, Dropout\n",
        "from tensorflow.keras.models import Sequential\n",
        "import  matplotlib.pyplot as plt"
      ],
      "execution_count": 1,
      "outputs": []
    },
    {
      "cell_type": "code",
      "metadata": {
        "colab": {
          "base_uri": "https://localhost:8080/"
        },
        "id": "-E7J3Mm5l7VU",
        "outputId": "201bb1ff-37c8-4c32-994d-a3312c8cf8ad"
      },
      "source": [
        "(x_train,y_train),(x_test,y_test)=mnist.load_data()"
      ],
      "execution_count": 2,
      "outputs": [
        {
          "output_type": "stream",
          "text": [
            "Downloading data from https://storage.googleapis.com/tensorflow/tf-keras-datasets/mnist.npz\n",
            "11493376/11490434 [==============================] - 0s 0us/step\n"
          ],
          "name": "stdout"
        }
      ]
    },
    {
      "cell_type": "code",
      "metadata": {
        "colab": {
          "base_uri": "https://localhost:8080/"
        },
        "id": "54ufXsU0my92",
        "outputId": "5b1c8a73-1344-4a33-dd81-c58f77dd8645"
      },
      "source": [
        "x_train.shape"
      ],
      "execution_count": 3,
      "outputs": [
        {
          "output_type": "execute_result",
          "data": {
            "text/plain": [
              "(60000, 28, 28)"
            ]
          },
          "metadata": {
            "tags": []
          },
          "execution_count": 3
        }
      ]
    },
    {
      "cell_type": "code",
      "metadata": {
        "colab": {
          "base_uri": "https://localhost:8080/",
          "height": 282
        },
        "id": "AhjudpUFnMoU",
        "outputId": "3fa0ca1c-c1a8-4949-a2b6-1db04580414a"
      },
      "source": [
        "# Visualization data\n",
        "\n",
        "plt.imshow(x_train[1],cmap='gray')\n",
        "y_train[1]"
      ],
      "execution_count": 7,
      "outputs": [
        {
          "output_type": "execute_result",
          "data": {
            "text/plain": [
              "0"
            ]
          },
          "metadata": {
            "tags": []
          },
          "execution_count": 7
        },
        {
          "output_type": "display_data",
          "data": {
            "image/png": "[encoded data removed]",
            "text/plain": [
              "<Figure size 432x288 with 1 Axes>"
            ]
          },
          "metadata": {
            "tags": [],
            "needs_background": "light"
          }
        }
      ]
    },
    {
      "cell_type": "code",
      "metadata": {
        "colab": {
          "base_uri": "https://localhost:8080/",
          "height": 282
        },
        "id": "JJ5DjpVxnVzI",
        "outputId": "ca210269-3048-4c7c-9cc1-ea5eba6c4687"
      },
      "source": [
        "plt.imshow(x_train[6],cmap='gray')\n",
        "y_train[6]"
      ],
      "execution_count": 8,
      "outputs": [
        {
          "output_type": "execute_result",
          "data": {
            "text/plain": [
              "1"
            ]
          },
          "metadata": {
            "tags": []
          },
          "execution_count": 8
        },
        {
          "output_type": "display_data",
          "data": {
            "image/png": "[encoded data removed]",
            "text/plain": [
              "<Figure size 432x288 with 1 Axes>"
            ]
          },
          "metadata": {
            "tags": [],
            "needs_background": "light"
          }
        }
      ]
    },
    {
      "cell_type": "code",
      "metadata": {
        "id": "bOmDB_XCn4bs"
      },
      "source": [
        "x_train,x_test = x_train/255 , x_test/255"
      ],
      "execution_count": 9,
      "outputs": []
    },
    {
      "cell_type": "code",
      "metadata": {
        "id": "H5WaSI9RnYoT"
      },
      "source": [
        "# reshaping coz originally shape is 3d but model.fit requires 4d\n",
        "x_train=x_train.reshape(60000,28,28,1)\n",
        "x_test=x_test.reshape(10000,28,28,1)"
      ],
      "execution_count": 14,
      "outputs": []
    },
    {
      "cell_type": "code",
      "metadata": {
        "id": "Yj_Ri62Fokcx"
      },
      "source": [
        "model = Sequential()\n",
        "model.add(Conv2D(50,3,activation='relu', kernel_initializer='he_uniform'))\n",
        "model.add(MaxPool2D())\n",
        "model.add(Conv2D(100,3,activation='relu', kernel_initializer='he_uniform'))\n",
        "model.add(MaxPool2D())\n",
        "model.add(Conv2D(200,3,activation='relu', kernel_initializer='he_uniform'))\n",
        "\n",
        "model.add(MaxPool2D())\n",
        "\n",
        "model.add(Flatten())\n",
        "\n",
        "model.add(Dense(200,activation='relu',kernel_initializer='he_uniform'))\n",
        "model.add(Dense(100,activation='sigmoid'))\n",
        "model.add(Dense(50,activation='relu',kernel_initializer='he_uniform'))\n",
        "model.add(Dense(25,activation='softmax'))"
      ],
      "execution_count": 15,
      "outputs": []
    },
    {
      "cell_type": "code",
      "metadata": {
        "id": "CWNI39Qcp3Wq"
      },
      "source": [
        "model.compile(optimizer='adam',loss=tf.keras.losses.sparse_categorical_crossentropy,metrics=['accuracy'])"
      ],
      "execution_count": 16,
      "outputs": []
    },
    {
      "cell_type": "code",
      "metadata": {
        "colab": {
          "base_uri": "https://localhost:8080/"
        },
        "id": "DdNauR1_qrLi",
        "outputId": "ca1c7dfc-2679-4df5-c3a1-eca756d68c85"
      },
      "source": [
        "model.fit(x_train,y_train,epochs=10,batch_size=32)"
      ],
      "execution_count": 17,
      "outputs": [
        {
          "output_type": "stream",
          "text": [
            "Epoch 1/10\n",
            "1875/1875 [==============================] - 49s 10ms/step - loss: 0.2147 - accuracy: 0.9399\n",
            "Epoch 2/10\n",
            "1875/1875 [==============================] - 20s 11ms/step - loss: 0.0659 - accuracy: 0.9806\n",
            "Epoch 3/10\n",
            "1875/1875 [==============================] - 20s 10ms/step - loss: 0.0480 - accuracy: 0.9856\n",
            "Epoch 4/10\n",
            "1875/1875 [==============================] - 20s 11ms/step - loss: 0.0369 - accuracy: 0.9891\n",
            "Epoch 5/10\n",
            "1875/1875 [==============================] - 20s 11ms/step - loss: 0.0288 - accuracy: 0.9917\n",
            "Epoch 6/10\n",
            "1875/1875 [==============================] - 20s 11ms/step - loss: 0.0243 - accuracy: 0.9925\n",
            "Epoch 7/10\n",
            "1875/1875 [==============================] - 20s 11ms/step - loss: 0.0179 - accuracy: 0.9950\n",
            "Epoch 8/10\n",
            "1875/1875 [==============================] - 20s 11ms/step - loss: 0.0190 - accuracy: 0.9945\n",
            "Epoch 9/10\n",
            "1875/1875 [==============================] - 20s 11ms/step - loss: 0.0157 - accuracy: 0.9956\n",
            "Epoch 10/10\n",
            "1875/1875 [==============================] - 20s 11ms/step - loss: 0.0145 - accuracy: 0.9961\n"
          ],
          "name": "stdout"
        },
        {
          "output_type": "execute_result",
          "data": {
            "text/plain": [
              "<tensorflow.python.keras.callbacks.History at 0x7fecc005a450>"
            ]
          },
          "metadata": {
            "tags": []
          },
          "execution_count": 17
        }
      ]
    },
    {
      "cell_type": "code",
      "metadata": {
        "id": "EVTYh9T1pgoD"
      },
      "source": [
        ""
      ],
      "execution_count": null,
      "outputs": []
    }
  ]
}